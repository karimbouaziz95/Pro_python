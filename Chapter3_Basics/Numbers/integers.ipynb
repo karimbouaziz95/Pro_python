{
 "cells": [
  {
   "cell_type": "code",
   "execution_count": 15,
   "metadata": {},
   "outputs": [],
   "source": [
    "import sys\n",
    "import math\n"
   ]
  },
  {
   "cell_type": "code",
   "execution_count": 4,
   "metadata": {},
   "outputs": [
    {
     "name": "stdout",
     "output_type": "stream",
     "text": [
      "36\n"
     ]
    }
   ],
   "source": [
    "my_value = 2**64\n",
    "print(sys.getsizeof(my_value))"
   ]
  },
  {
   "cell_type": "code",
   "execution_count": 7,
   "metadata": {},
   "outputs": [
    {
     "name": "stdout",
     "output_type": "stream",
     "text": [
      "40\n"
     ]
    }
   ],
   "source": [
    "my_value2 = 2**100\n",
    "print(sys.getsizeof(my_value2))"
   ]
  },
  {
   "cell_type": "code",
   "execution_count": 9,
   "metadata": {},
   "outputs": [
    {
     "name": "stdout",
     "output_type": "stream",
     "text": [
      "Result:  5.0 Type:  <class 'float'>\n",
      "Result:  12 Type:  <class 'int'>\n",
      "Result:  8 Type:  <class 'int'>\n",
      "Result:  20 Type:  <class 'int'>\n"
     ]
    }
   ],
   "source": [
    "result = 10/2\n",
    "print(\"Result: \", result, \"Type: \",type(result))\n",
    "\n",
    "result = 10+2\n",
    "print(\"Result: \", result, \"Type: \",type(result))\n",
    "\n",
    "result = 10-2\n",
    "print(\"Result: \", result, \"Type: \",type(result))\n",
    "\n",
    "result = 10*2\n",
    "print(\"Result: \", result, \"Type: \",type(result))"
   ]
  },
  {
   "cell_type": "code",
   "execution_count": 13,
   "metadata": {},
   "outputs": [
    {
     "name": "stdout",
     "output_type": "stream",
     "text": [
      "Result:  0 Type:  <class 'int'>\n"
     ]
    }
   ],
   "source": [
    "result = 9//10\n",
    "print(\"Result: \", result, \"Type: \",type(result))"
   ]
  },
  {
   "cell_type": "code",
   "execution_count": 14,
   "metadata": {},
   "outputs": [
    {
     "name": "stdout",
     "output_type": "stream",
     "text": [
      "2.7\n",
      "2\n"
     ]
    }
   ],
   "source": [
    "# Float to Int\n",
    "my_float = 2.7\n",
    "my_int = int(my_float)\n",
    "print(my_float)\n",
    "print(my_int)"
   ]
  },
  {
   "cell_type": "code",
   "execution_count": 21,
   "metadata": {},
   "outputs": [
    {
     "name": "stdout",
     "output_type": "stream",
     "text": [
      "-2.7\n",
      "-3\n",
      "-2\n"
     ]
    }
   ],
   "source": [
    "#floor (abrunden)\n",
    "#ceil (aufrunden)\n",
    "\n",
    "my_float2 = -2.7\n",
    "print(my_float2)\n",
    "my_int2 = math.floor(my_float2)\n",
    "print(my_int2)\n",
    "my_int2 = math.ceil(my_float2)\n",
    "print(my_int2)"
   ]
  },
  {
   "cell_type": "code",
   "execution_count": 22,
   "metadata": {},
   "outputs": [
    {
     "name": "stdout",
     "output_type": "stream",
     "text": [
      "42\n"
     ]
    }
   ],
   "source": [
    "my_decimal = int(\"42\", base=10)\n",
    "print(my_decimal)"
   ]
  },
  {
   "cell_type": "code",
   "execution_count": 23,
   "metadata": {},
   "outputs": [
    {
     "name": "stdout",
     "output_type": "stream",
     "text": [
      "66\n"
     ]
    }
   ],
   "source": [
    "my_hexa = int(\"42\", base=16)\n",
    "print(my_hexa)"
   ]
  },
  {
   "cell_type": "code",
   "execution_count": 25,
   "metadata": {},
   "outputs": [
    {
     "name": "stdout",
     "output_type": "stream",
     "text": [
      "53\n"
     ]
    }
   ],
   "source": [
    "my_binary = int(\"110101\", base=2)\n",
    "print(my_binary)"
   ]
  },
  {
   "cell_type": "code",
   "execution_count": null,
   "metadata": {},
   "outputs": [],
   "source": []
  }
 ],
 "metadata": {
  "interpreter": {
   "hash": "a6e317764b4fbe3d6a916326efad7657095b2efe4c7d6d59db09097c93ff9b34"
  },
  "kernelspec": {
   "display_name": "Python 3.8.12 64-bit ('pyUdemy': conda)",
   "language": "python",
   "name": "python3"
  },
  "language_info": {
   "codemirror_mode": {
    "name": "ipython",
    "version": 3
   },
   "file_extension": ".py",
   "mimetype": "text/x-python",
   "name": "python",
   "nbconvert_exporter": "python",
   "pygments_lexer": "ipython3",
   "version": "3.8.12"
  },
  "orig_nbformat": 4
 },
 "nbformat": 4,
 "nbformat_minor": 2
}

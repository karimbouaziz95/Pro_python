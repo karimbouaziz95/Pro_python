{
 "cells": [
  {
   "cell_type": "code",
   "execution_count": 1,
   "metadata": {},
   "outputs": [],
   "source": [
    "def print_memory_adress(var):\n",
    "    print(hex(id(var)))"
   ]
  },
  {
   "cell_type": "code",
   "execution_count": 2,
   "metadata": {},
   "outputs": [
    {
     "name": "stdout",
     "output_type": "stream",
     "text": [
      "0x7ffbe3a42420\n",
      "0x7ffbe3a421a0\n"
     ]
    }
   ],
   "source": [
    "my_int = 42\n",
    "print_memory_adress(my_int)\n",
    "my_int = 22\n",
    "print_memory_adress(my_int)"
   ]
  },
  {
   "cell_type": "code",
   "execution_count": 3,
   "metadata": {},
   "outputs": [
    {
     "name": "stdout",
     "output_type": "stream",
     "text": [
      "[1, 2, 3]\n",
      "(1, 2, 3)\n"
     ]
    }
   ],
   "source": [
    "my_list = [1,2,3]\n",
    "my_tuple =(1,2,3)\n",
    "print(my_list)\n",
    "print(my_tuple)\n"
   ]
  },
  {
   "cell_type": "code",
   "execution_count": 4,
   "metadata": {},
   "outputs": [
    {
     "name": "stdout",
     "output_type": "stream",
     "text": [
      "0x21d0f214340\n",
      "0x21d10d6c500\n"
     ]
    }
   ],
   "source": [
    "print_memory_adress(my_list)\n",
    "print_memory_adress(my_tuple)\n"
   ]
  },
  {
   "cell_type": "code",
   "execution_count": null,
   "metadata": {},
   "outputs": [],
   "source": []
  }
 ],
 "metadata": {
  "interpreter": {
   "hash": "a6e317764b4fbe3d6a916326efad7657095b2efe4c7d6d59db09097c93ff9b34"
  },
  "kernelspec": {
   "display_name": "Python 3.8.12 64-bit ('pyUdemy': conda)",
   "language": "python",
   "name": "python3"
  },
  "language_info": {
   "codemirror_mode": {
    "name": "ipython",
    "version": 3
   },
   "file_extension": ".py",
   "mimetype": "text/x-python",
   "name": "python",
   "nbconvert_exporter": "python",
   "pygments_lexer": "ipython3",
   "version": "3.8.12"
  },
  "orig_nbformat": 4
 },
 "nbformat": 4,
 "nbformat_minor": 2
}

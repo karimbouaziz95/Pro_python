{
 "cells": [
  {
   "cell_type": "code",
   "execution_count": 1,
   "metadata": {},
   "outputs": [],
   "source": [
    "def print_memory_adress(var):\n",
    "    print(hex(id(var)))"
   ]
  },
  {
   "cell_type": "code",
   "execution_count": 2,
   "metadata": {},
   "outputs": [
    {
     "name": "stdout",
     "output_type": "stream",
     "text": [
      "0x7ffbd9f72020\n",
      "0x7ffbd9f72060\n"
     ]
    }
   ],
   "source": [
    "my_value = 10\n",
    "my_value2 = 12\n",
    "print_memory_adress(my_value)\n",
    "print_memory_adress(my_value2)\n"
   ]
  },
  {
   "cell_type": "code",
   "execution_count": 3,
   "metadata": {},
   "outputs": [
    {
     "name": "stdout",
     "output_type": "stream",
     "text": [
      "0x7ffbd9f72420\n",
      "0x7ffbd9f72420\n",
      "0x7ffbd9f72420\n"
     ]
    }
   ],
   "source": [
    "my_int1 = 42\n",
    "my_int2 = 42\n",
    "my_int3 = 42\n",
    "\n",
    "print_memory_adress(my_int1)\n",
    "print_memory_adress(my_int2)\n",
    "print_memory_adress(my_int3)\n"
   ]
  },
  {
   "cell_type": "code",
   "execution_count": 4,
   "metadata": {},
   "outputs": [],
   "source": [
    "import random\n",
    "random.seed(42)"
   ]
  },
  {
   "cell_type": "code",
   "execution_count": 5,
   "metadata": {},
   "outputs": [],
   "source": [
    "my_list1 = []"
   ]
  },
  {
   "cell_type": "code",
   "execution_count": 6,
   "metadata": {},
   "outputs": [],
   "source": [
    "def append_random_value(l):\n",
    "    l.append(random.randint(-100, 100))"
   ]
  },
  {
   "cell_type": "code",
   "execution_count": 7,
   "metadata": {},
   "outputs": [
    {
     "name": "stdout",
     "output_type": "stream",
     "text": [
      "[63]\n"
     ]
    }
   ],
   "source": [
    "append_random_value(my_list1)\n",
    "print(my_list1)"
   ]
  },
  {
   "cell_type": "code",
   "execution_count": 11,
   "metadata": {},
   "outputs": [],
   "source": [
    "def square_list(l):\n",
    "    l = [val**2 for val in l]"
   ]
  },
  {
   "cell_type": "code",
   "execution_count": 13,
   "metadata": {},
   "outputs": [
    {
     "name": "stdout",
     "output_type": "stream",
     "text": [
      "0x20b008d8ac0\n",
      "[1, 2, 3]\n",
      "0x20b008d8ac0\n"
     ]
    }
   ],
   "source": [
    "my_list2 = [1,2,3]\n",
    "\n",
    "print_memory_adress(my_list2)\n",
    "square_list(my_list2)\n",
    "print(my_list2)\n",
    "\n",
    "print_memory_adress(my_list2)\n"
   ]
  },
  {
   "cell_type": "code",
   "execution_count": null,
   "metadata": {},
   "outputs": [],
   "source": []
  }
 ],
 "metadata": {
  "interpreter": {
   "hash": "a6e317764b4fbe3d6a916326efad7657095b2efe4c7d6d59db09097c93ff9b34"
  },
  "kernelspec": {
   "display_name": "Python 3.8.12 64-bit ('pyUdemy': conda)",
   "language": "python",
   "name": "python3"
  },
  "language_info": {
   "codemirror_mode": {
    "name": "ipython",
    "version": 3
   },
   "file_extension": ".py",
   "mimetype": "text/x-python",
   "name": "python",
   "nbconvert_exporter": "python",
   "pygments_lexer": "ipython3",
   "version": "3.8.12"
  },
  "orig_nbformat": 4
 },
 "nbformat": 4,
 "nbformat_minor": 2
}
